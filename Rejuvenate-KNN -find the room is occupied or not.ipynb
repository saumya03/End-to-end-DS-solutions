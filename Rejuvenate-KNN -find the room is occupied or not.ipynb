{
 "cells": [
  {
   "cell_type": "markdown",
   "id": "6b92dcfe",
   "metadata": {},
   "source": [
    "## Find whether the room will be occupied or not by client-0 or 1(by KNN method). Sensors are present inside room to give following data\n"
   ]
  },
  {
   "cell_type": "markdown",
   "id": "6325c471",
   "metadata": {},
   "source": [
    "### Output dataframe should have only ID and occupancy columns"
   ]
  },
  {
   "cell_type": "code",
   "execution_count": 13,
   "id": "f50bfc94",
   "metadata": {},
   "outputs": [
    {
     "name": "stdout",
     "output_type": "stream",
     "text": [
      "(5211, 6)\n",
      "(5211,)\n",
      "(651, 6)\n",
      "(651,)\n",
      "(652, 6)\n",
      "(652,)\n"
     ]
    },
    {
     "data": {
      "text/plain": [
       "(None, None)"
      ]
     },
     "execution_count": 13,
     "metadata": {},
     "output_type": "execute_result"
    }
   ],
   "source": [
    "#KNeighborsClassifier\n",
    "import pandas as pd\n",
    "import numpy as np\n",
    "from sklearn.neighbors import KNeighborsClassifier\n",
    "from sklearn.model_selection import GridSearchCV\n",
    "from sklearn.model_selection import train_test_split\n",
    "import matplotlib.pyplot as plt\n",
    "from sklearn.metrics import classification_report, confusion_matrix, accuracy_score\n",
    "\n",
    "dff = pd.read_csv(\"SpaData.csv\")\n",
    "# Let's say we want to split the data in 80:10:10 for train:valid:test dataset\n",
    "train_size=0.8\n",
    "\n",
    "X = dff.drop(columns = ['GTOccupancy', 'TimeStamp'], axis=1).copy()\n",
    "y = dff['GTOccupancy']\n",
    "# In the first step we will split the data in training and remaining dataset\n",
    "X_train, X_rem, y_train, y_rem = train_test_split(X,y, train_size=0.8) #training data\n",
    "# Now since we want the valid and test size to be equal (10% each of overall data). \n",
    "# we have to define valid_size=0.5 (that is 50% of remaining data)\n",
    "test_size = 0.5\n",
    "X_valid, X_test, y_valid, y_test = train_test_split(X_rem,y_rem, test_size=0.5)\n",
    "print(X_train.shape), print(y_train.shape)\n",
    "print(X_valid.shape), print(y_valid.shape)\n",
    "print(X_test.shape), print(y_test.shape)\n"
   ]
  },
  {
   "cell_type": "code",
   "execution_count": 14,
   "id": "28ea596e",
   "metadata": {},
   "outputs": [],
   "source": [
    "#elbow method\n",
    "#find optimum no. of neighbors, in b/w 1 to 50\n",
    "error_rate = []\n",
    "for i in range(1,40):\n",
    " \n",
    " knn = KNeighborsClassifier(n_neighbors=i)\n",
    " knn.fit(X_train,y_train)\n",
    " pred_i = knn.predict(X_test)\n",
    " error_rate.append(np.mean(pred_i != y_test))"
   ]
  },
  {
   "cell_type": "code",
   "execution_count": 15,
   "id": "6106b481",
   "metadata": {},
   "outputs": [
    {
     "data": {
      "text/plain": [
       "Text(0, 0.5, 'Error Rate')"
      ]
     },
     "execution_count": 15,
     "metadata": {},
     "output_type": "execute_result"
    },
    {
     "data": {
      "image/png": "[encoded data removed]",
      "text/plain": [
       "<Figure size 720x432 with 1 Axes>"
      ]
     },
     "metadata": {
      "needs_background": "light"
     },
     "output_type": "display_data"
    }
   ],
   "source": [
    "plt.figure(figsize=(10,6))\n",
    "plt.plot(range(1,40),error_rate,color= \"blue\", linestyle=\"dashed\", marker=\"o\",\n",
    " markerfacecolor=\"red\", markersize=10)\n",
    "plt.title(\"Error Rate vs. K Value\")\n",
    "plt.xlabel(\"K\")\n",
    "plt.ylabel(\"Error Rate\")"
   ]
  },
  {
   "cell_type": "code",
   "execution_count": 16,
   "id": "0be0a282",
   "metadata": {},
   "outputs": [],
   "source": [
    "classifier = KNeighborsClassifier(n_neighbors = 13)\n",
    "classifier.fit(X_train, y_train)\n",
    "y_pred = classifier.predict(X_test)"
   ]
  },
  {
   "cell_type": "code",
   "execution_count": 17,
   "id": "c5282007",
   "metadata": {},
   "outputs": [
    {
     "name": "stdout",
     "output_type": "stream",
     "text": [
      "Confusion Matrix:\n",
      "[[500   5]\n",
      " [  0 147]]\n",
      "Classification Report:\n",
      "              precision    recall  f1-score   support\n",
      "\n",
      "           0       1.00      0.99      1.00       505\n",
      "           1       0.97      1.00      0.98       147\n",
      "\n",
      "    accuracy                           0.99       652\n",
      "   macro avg       0.98      1.00      0.99       652\n",
      "weighted avg       0.99      0.99      0.99       652\n",
      "\n",
      "Accuracy: 0.9923312883435583\n"
     ]
    }
   ],
   "source": [
    "result = confusion_matrix(y_test, y_pred)\n",
    "print(\"Confusion Matrix:\")\n",
    "print(result)\n",
    "result1 = classification_report(y_test, y_pred)\n",
    "print(\"Classification Report:\",)\n",
    "print (result1)\n",
    "result2 = accuracy_score(y_test,y_pred)\n",
    "print(\"Accuracy:\",result2)"
   ]
  },
  {
   "cell_type": "code",
   "execution_count": 18,
   "id": "e1155f26",
   "metadata": {},
   "outputs": [],
   "source": [
    "#export the file\n",
    "y_pred.shape\n",
    "a=[]\n",
    "for i in range(652):\n",
    "    a.append(i)\n",
    "\n",
    "final = pd.DataFrame({'ID':a, 'occupancy':y_pred})"
   ]
  },
  {
   "cell_type": "code",
   "execution_count": null,
   "id": "cf13ca41",
   "metadata": {},
   "outputs": [],
   "source": [
    "final_rej = final.to_csv('Rejuvenate123.csv', index=False)"
   ]
  },
  {
   "cell_type": "code",
   "execution_count": null,
   "id": "c430609e",
   "metadata": {},
   "outputs": [],
   "source": [
    "df3 = pd.read_csv(\"Rejuvenate123.csv\")"
   ]
  },
  {
   "cell_type": "code",
   "execution_count": null,
   "id": "d7520034",
   "metadata": {},
   "outputs": [],
   "source": []
  }
 ],
 "metadata": {
  "kernelspec": {
   "display_name": "Python 3 (ipykernel)",
   "language": "python",
   "name": "python3"
  },
  "language_info": {
   "codemirror_mode": {
    "name": "ipython",
    "version": 3
   },
   "file_extension": ".py",
   "mimetype": "text/x-python",
   "name": "python",
   "nbconvert_exporter": "python",
   "pygments_lexer": "ipython3",
   "version": "3.9.7"
  }
 },
 "nbformat": 4,
 "nbformat_minor": 5
}
